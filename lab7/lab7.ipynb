{
 "cells": [
  {
   "cell_type": "code",
   "execution_count": null,
   "metadata": {},
   "outputs": [],
   "source": [
    "import pygame\n",
    "pygame.init()\n",
    "pygame.mixer.init()\n",
    "screen=pygame.display.set_mode((600,400))\n",
    "image=pygame.image.load(r'C:\\Users\\Asus\\.vscode\\laba7\\lab7\\images\\b4c4b30a8ec510b8190d5364b9198cd5.jpg')\n",
    "\n",
    "musics=[\n",
    "    r\"C:\\Users\\Asus\\.vscode\\laba7\\lab7\\musics\\Space-Cadet-_feat.-Gunna_-Metro-Boomin.mp3\",\n",
    "   r\"C:\\Users\\Asus\\.vscode\\laba7\\lab7\\musics\\Carnival-The-Cardigans.mp3\",\n",
    "    r\"C:\\Users\\Asus\\.vscode\\laba7\\lab7\\musics\\Same-Old-Love-Selena-Gomez.mp3\"\n",
    "]\n",
    "currentmusic=0\n",
    "def play_music():\n",
    " pygame.mixer.music.load(musics[currentmusic])\n",
    " pygame.mixer.music.play()\n",
    "done=True\n",
    "\n",
    "while  done:\n",
    "   for event in pygame.event.get():\n",
    "      if event.type==pygame.QUIT:\n",
    "        done=False\n",
    "   keys=pygame.key.get_pressed()\n",
    "   if keys[pygame.K_h]:\n",
    "    play_music()\n",
    "   if keys[pygame.K_s]:\n",
    "    pygame.mixer.music.stop()\n",
    "   if keys[pygame.K_n]:\n",
    "    currentmusic+=1\n",
    "    if currentmusic >= len(musics):\n",
    "            currentmusic = 0  \n",
    "       \n",
    "    play_music()\n",
    "   if keys[pygame.K_p]:\n",
    "    currentmusic-=1\n",
    "    if currentmusic < 0:\n",
    "            currentmusic = len(musics) - 1\n",
    "    play_music()\n",
    "   screen.fill((255, 255, 255))\n",
    "   screen.blit(image, (0, 0))\n",
    "   pygame.display.flip()\n",
    "pygame.quit()\n",
    " "
   ]
  },
  {
   "cell_type": "code",
   "execution_count": 1,
   "metadata": {},
   "outputs": [
    {
     "name": "stdout",
     "output_type": "stream",
     "text": [
      "pygame 2.6.1 (SDL 2.28.4, Python 3.11.9)\n",
      "Hello from the pygame community. https://www.pygame.org/contribute.html\n"
     ]
    }
   ],
   "source": [
    "import pygame \n",
    "from datetime import datetime\n",
    "pygame.init()\n",
    "screen=pygame.display.set_mode((1000,800))\n",
    "\n",
    "clock=pygame.image.load(r'C:\\Users\\Asus\\.vscode\\laba7\\lab7\\images\\clock.png')\n",
    "small_clock = pygame.transform.scale(clock, (1000, 800))\n",
    "minute=pygame.image.load(r\"C:\\Users\\Asus\\.vscode\\laba7\\lab7\\images\\rightarm.png\")\n",
    "second=pygame.image.load(r\"C:\\Users\\Asus\\.vscode\\laba7\\lab7\\images\\leftarm.png\")\n",
    "minute_rect=minute.get_rect(center=(500, 400))\n",
    "second_rect=second.get_rect(center=(500, 400))\n",
    "working=True\n",
    "while working:\n",
    "    for event in pygame.event.get():\n",
    "        if event.type==pygame.QUIT:\n",
    "            working=False\n",
    "    now=datetime.now()\n",
    "    min=now.minute\n",
    "    sec=now.second\n",
    "    min_angle=-(min*6)\n",
    "    sec_angle=-(sec*6)\n",
    "    rot_min=pygame.transform.rotate(minute,min_angle)\n",
    "    rot_sec=pygame.transform.rotate(second,sec_angle)\n",
    "    min_rect=rot_min.get_rect(center=(500, 400))\n",
    "    sec_rect=rot_sec.get_rect(center=(500, 400))\n",
    "\n",
    "    screen.blit(small_clock,(0,0))\n",
    "    screen.blit(rot_min,min_rect.topleft)\n",
    "    screen.blit(rot_sec,sec_rect.topleft)\n",
    "    pygame.display.flip()\n",
    "    pygame.time.delay(1000)\n",
    "pygame.quit()"
   ]
  },
  {
   "cell_type": "code",
   "execution_count": 2,
   "metadata": {},
   "outputs": [],
   "source": [
    "import pygame\n",
    "pygame.init()\n",
    "screen=pygame.display.set_mode((800,800))\n",
    "x,y=200,200\n",
    "radius=25\n",
    "color=(255,0,0)\n",
    "running=True\n",
    "while running:\n",
    "    for event in pygame.event.get():\n",
    "        if event.type==pygame.QUIT:\n",
    "            running=False\n",
    "    keys=pygame.key.get_pressed()\n",
    "    if keys[pygame.K_LEFT] and x-20>=radius:\n",
    "        x-=20\n",
    "    if keys[pygame.K_RIGHT] and x+20<=400-radius:\n",
    "        x+=20\n",
    "    if keys[pygame.K_UP] and y-20>=radius:\n",
    "        y-=20\n",
    "    if keys[pygame.K_DOWN] and y+20<=400-radius:\n",
    "        y+=20\n",
    "    screen.fill((255,255,255))\n",
    "    pygame.draw.circle(screen,color,(x,y),radius)\n",
    "    pygame.display.flip()\n",
    "pygame.quit()\n",
    "\n",
    "\n"
   ]
  }
 ],
 "metadata": {
  "kernelspec": {
   "display_name": "Python 3",
   "language": "python",
   "name": "python3"
  },
  "language_info": {
   "codemirror_mode": {
    "name": "ipython",
    "version": 3
   },
   "file_extension": ".py",
   "mimetype": "text/x-python",
   "name": "python",
   "nbconvert_exporter": "python",
   "pygments_lexer": "ipython3",
   "version": "3.11.9"
  }
 },
 "nbformat": 4,
 "nbformat_minor": 2
}
